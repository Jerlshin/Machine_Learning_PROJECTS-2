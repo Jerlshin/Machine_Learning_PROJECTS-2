{
  "nbformat": 4,
  "nbformat_minor": 0,
  "metadata": {
    "colab": {
      "provenance": []
    },
    "kernelspec": {
      "name": "python3",
      "display_name": "Python 3"
    },
    "language_info": {
      "name": "python"
    }
  },
  "cells": [
    {
      "cell_type": "markdown",
      "source": [
        "## **Question 1** ##"
      ],
      "metadata": {
        "id": "jQI9Y-uusuCv"
      }
    },
    {
      "cell_type": "markdown",
      "source": [
        "Single layer perceptron"
      ],
      "metadata": {
        "id": "1uJ8qri0s2t2"
      }
    },
    {
      "cell_type": "code",
      "execution_count": null,
      "metadata": {
        "colab": {
          "base_uri": "https://localhost:8080/"
        },
        "id": "o1TnGQOxnyFa",
        "outputId": "f25313e0-d5a9-436c-b1fa-f008140fb52e"
      },
      "outputs": [
        {
          "output_type": "stream",
          "name": "stdout",
          "text": [
            "Iteration 0: [0.55388397 0.40483867 0.88147682 0.25881346]\n",
            "Iteration 1: [0.55848397 0.40793867 0.88297682 0.25901346]\n",
            "Iteration 2: [0.56348397 0.41153867 0.88437682 0.25921346]\n",
            "Iteration 3: [0.56888397 0.41543867 0.88607682 0.25961346]\n",
            "Iteration 4: [0.57328397 0.41833867 0.88747682 0.25981346]\n",
            "Iteration 5: [0.57818397 0.42143867 0.88897682 0.25991346]\n",
            "Iteration 6: [0.58358397 0.42513867 0.89047682 0.26011346]\n",
            "Iteration 7: [0.58838397 0.42853867 0.89207682 0.26031346]\n",
            "Iteration 8: [0.59318397 0.43153867 0.89347682 0.26041346]\n",
            "Iteration 9: [0.59748397 0.43453867 0.89457682 0.26051346]\n",
            "Iteration 10: [0.60328397 0.43853867 0.89577682 0.26071346]\n",
            "Iteration 11: [0.60898397 0.44293867 0.89727682 0.26111346]\n",
            "Iteration 12: [0.61468397 0.44673867 0.89897682 0.26141346]\n",
            "Iteration 13: [0.61978397 0.45053867 0.90047682 0.26171346]\n",
            "Iteration 14: [0.62518397 0.45393867 0.90217682 0.26191346]\n",
            "Iteration 15: [0.63028397 0.45763867 0.90367682 0.26231346]\n",
            "Iteration 16: [0.63488397 0.46123867 0.90467682 0.26251346]\n",
            "Iteration 17: [0.63998397 0.46453867 0.90637682 0.26301346]\n",
            "Iteration 18: [0.64478397 0.46793867 0.90827682 0.26321346]\n",
            "Iteration 19: [0.64998397 0.47143867 0.90977682 0.26341346]\n",
            "Iteration 20: [0.65518397 0.47483867 0.91117682 0.26361346]\n",
            "Iteration 21: [0.66038397 0.47893867 0.91267682 0.26371346]\n",
            "Iteration 22: [0.66588397 0.48313867 0.91407682 0.26391346]\n",
            "Iteration 23: [0.67078397 0.48623867 0.91557682 0.26401346]\n",
            "Iteration 24: [0.67568397 0.48933867 0.91707682 0.26411346]\n",
            "Iteration 25: [0.68008397 0.49233867 0.91837682 0.26431346]\n",
            "Iteration 26: [0.68518397 0.49573867 0.91987682 0.26451346]\n",
            "Iteration 27: [0.69018397 0.49923867 0.92117682 0.26481346]\n",
            "Iteration 28: [0.69468397 0.50153867 0.92247682 0.26511346]\n",
            "Iteration 29: [0.69908397 0.50473867 0.92377682 0.26531346]\n",
            "Iteration 30: [0.70408397 0.50823867 0.92537682 0.26591346]\n",
            "Iteration 31: [0.70918397 0.51203867 0.92727682 0.26631346]\n",
            "Iteration 32: [0.71398397 0.51503867 0.92867682 0.26661346]\n",
            "Iteration 33: [0.71908397 0.51883867 0.93027682 0.26681346]\n",
            "Iteration 34: [0.72368397 0.52203867 0.93167682 0.26701346]\n",
            "Iteration 35: [0.72898397 0.52573867 0.93317682 0.26721346]\n",
            "Iteration 36: [0.73398397 0.52903867 0.93457682 0.26741346]\n",
            "Iteration 37: [0.74798397 0.53543867 0.94397682 0.27021346]\n",
            "Iteration 38: [0.76078397 0.54183867 0.95297682 0.27321346]\n",
            "Iteration 39: [0.77458397 0.54803867 0.96277682 0.27621346]\n",
            "Iteration 40: [0.78758397 0.55363867 0.97197682 0.27921346]\n",
            "Iteration 41: [0.79898397 0.55923867 0.98097682 0.28181346]\n",
            "Iteration 42: [0.80878397 0.56403867 0.98757682 0.28381346]\n",
            "Iteration 43: [0.82198397 0.56983867 0.99677682 0.28641346]\n",
            "Iteration 44: [0.83238397 0.57523867 1.00457682 0.28921346]\n",
            "Iteration 45: [0.84238397 0.57923867 1.01157682 0.29121346]\n",
            "Iteration 46: [0.85458397 0.58503867 1.02097682 0.29401346]\n",
            "Iteration 47: [0.86578397 0.59083867 1.02817682 0.29661346]\n",
            "Iteration 48: [0.87918397 0.59703867 1.03697682 0.29941346]\n",
            "Iteration 49: [0.89078397 0.60243867 1.04517682 0.30141346]\n",
            "Iteration 50: [0.90198397 0.60743867 1.05297682 0.30361346]\n",
            "Iteration 51: [0.91378397 0.61383867 1.06257682 0.30721346]\n",
            "Iteration 52: [0.92638397 0.61883867 1.07237682 0.31021346]\n",
            "Iteration 53: [0.93958397 0.62483867 1.08117682 0.31301346]\n",
            "Iteration 54: [0.95298397 0.63083867 1.09117682 0.31641346]\n",
            "Iteration 55: [0.96498397 0.63663867 1.10017682 0.31941346]\n",
            "Iteration 56: [0.97638397 0.64183867 1.10717682 0.32141346]\n",
            "Iteration 57: [0.98738397 0.64663867 1.11457682 0.32341346]\n",
            "Iteration 58: [0.99898397 0.65203867 1.12237682 0.32581346]\n",
            "Iteration 59: [1.01238397 0.65823867 1.13177682 0.32881346]\n",
            "Iteration 60: [1.02358397 0.66423867 1.13997682 0.33141346]\n",
            "Iteration 61: [1.03458397 0.66923867 1.14797682 0.33401346]\n",
            "Iteration 62: [1.04558397 0.67443867 1.15677682 0.33641346]\n",
            "Iteration 63: [1.05718397 0.67963867 1.16477682 0.33881346]\n",
            "Iteration 64: [1.06838397 0.68503867 1.17317682 0.34141346]\n",
            "Iteration 65: [1.07978397 0.69103867 1.18157682 0.34381346]\n",
            "Iteration 66: [1.07978397 0.69103867 1.18157682 0.34381346]\n",
            "Iteration 67: [1.07978397 0.69103867 1.18157682 0.34381346]\n",
            "Iteration 68: [1.07978397 0.69103867 1.18157682 0.34381346]\n",
            "Iteration 69: [1.07978397 0.69103867 1.18157682 0.34381346]\n",
            "Iteration 70: [1.07978397 0.69103867 1.18157682 0.34381346]\n",
            "Iteration 71: [1.07978397 0.69103867 1.18157682 0.34381346]\n",
            "Iteration 72: [1.07978397 0.69103867 1.18157682 0.34381346]\n",
            "Iteration 73: [1.07978397 0.69103867 1.18157682 0.34381346]\n",
            "Iteration 74: [1.07978397 0.69103867 1.18157682 0.34381346]\n",
            "Iteration 75: [1.07978397 0.69103867 1.18157682 0.34381346]\n",
            "Iteration 76: [1.07978397 0.69103867 1.18157682 0.34381346]\n",
            "Iteration 77: [1.07978397 0.69103867 1.18157682 0.34381346]\n",
            "Iteration 78: [1.07978397 0.69103867 1.18157682 0.34381346]\n",
            "Iteration 79: [1.07978397 0.69103867 1.18157682 0.34381346]\n",
            "Iteration 80: [1.07978397 0.69103867 1.18157682 0.34381346]\n",
            "Iteration 81: [1.07978397 0.69103867 1.18157682 0.34381346]\n",
            "Iteration 82: [1.07978397 0.69103867 1.18157682 0.34381346]\n",
            "Iteration 83: [1.07978397 0.69103867 1.18157682 0.34381346]\n",
            "Iteration 84: [1.07978397 0.69103867 1.18157682 0.34381346]\n",
            "Iteration 85: [1.07978397 0.69103867 1.18157682 0.34381346]\n",
            "Iteration 86: [1.07978397 0.69103867 1.18157682 0.34381346]\n",
            "Iteration 87: [1.07978397 0.69103867 1.18157682 0.34381346]\n",
            "Iteration 88: [1.07978397 0.69103867 1.18157682 0.34381346]\n",
            "Iteration 89: [1.07978397 0.69103867 1.18157682 0.34381346]\n",
            "Iteration 90: [1.07978397 0.69103867 1.18157682 0.34381346]\n",
            "Iteration 91: [1.07978397 0.69103867 1.18157682 0.34381346]\n",
            "Iteration 92: [1.07978397 0.69103867 1.18157682 0.34381346]\n",
            "Iteration 93: [1.07978397 0.69103867 1.18157682 0.34381346]\n",
            "Iteration 94: [1.07978397 0.69103867 1.18157682 0.34381346]\n",
            "Iteration 95: [1.07978397 0.69103867 1.18157682 0.34381346]\n",
            "Iteration 96: [1.07978397 0.69103867 1.18157682 0.34381346]\n",
            "Iteration 97: [1.07978397 0.69103867 1.18157682 0.34381346]\n",
            "Iteration 98: [1.07978397 0.69103867 1.18157682 0.34381346]\n",
            "Iteration 99: [1.07978397 0.69103867 1.18157682 0.34381346]\n",
            "Iteration 100: [1.07978397 0.69103867 1.18157682 0.34381346]\n",
            "Iteration 101: [1.07978397 0.69103867 1.18157682 0.34381346]\n",
            "Iteration 102: [1.07978397 0.69103867 1.18157682 0.34381346]\n",
            "Difference: [0.5308 0.2892 0.3015 0.0852]\n",
            "Score=17.391304347826086\n"
          ]
        }
      ],
      "source": [
        "import numpy as np\n",
        "import pandas as pd\n",
        "\n",
        "data=pd.read_csv('iris.csv')\n",
        "data.columns=['Sepal_len_cm','Sepal_wid_cm','Petal_len_cm','Petal_wid_cm','Type']\n",
        "\n",
        "\n",
        "# I am using Sigmoid function as the activation function\n",
        "\n",
        "def activation_func(value):    #Tangent Hypotenuse\n",
        "    #return (1/(1+np.exp(-value)))\n",
        "    return ((np.exp(value)-np.exp(-value))/(np.exp(value)+np.exp(-value)))\n",
        "\n",
        "\n",
        "def perceptron_train(in_data,labels,alpha):\n",
        "    X=np.array(in_data)\n",
        "    y=np.array(labels)\n",
        "    weights=np.random.random(X.shape[1])\n",
        "    original=weights\n",
        "    bias=np.random.random_sample()\n",
        "    for key in range(X.shape[0]):\n",
        "        a=activation_func(np.matmul(np.transpose(weights),X[key]))\n",
        "        yn=0\n",
        "        if a>=0.7:\n",
        "            yn=1\n",
        "        elif a<=(-0.7):\n",
        "            yn=-1\n",
        "        weights=weights+alpha*(yn-y[key])*X[key]\n",
        "        print('Iteration '+str(key)+': '+str(weights))\n",
        "    print('Difference: '+str(weights-original))\n",
        "    return weights\n",
        "\n",
        "#  Testing and Score\n",
        "\n",
        "def perceptron_test(in_data,label_shape,weights):\n",
        "    X=np.array(in_data)\n",
        "    y=np.zeros(label_shape)\n",
        "    for key in range(X.shape[1]):\n",
        "        a=activation_func((weights*X[key]).sum())\n",
        "        y[key]=0\n",
        "        if a>=0.7:\n",
        "            y[key]=1\n",
        "        elif a<=(-0.7):\n",
        "            y[key]=-1\n",
        "    return y\n",
        "\n",
        "\n",
        "def score(result,labels):\n",
        "    difference=result-np.array(labels)\n",
        "    correct_ctr=0\n",
        "    for elem in range(difference.shape[0]):\n",
        "        if difference[elem]==0:\n",
        "            correct_ctr+=1\n",
        "    score=correct_ctr*100/difference.size\n",
        "    print('Score='+str(score))\n",
        "\n",
        "\n",
        "# Main code\n",
        "\n",
        "divider = np.random.rand(len(data)) < 0.70\n",
        "d_train = data[divider]\n",
        "d_test = data[~divider]\n",
        "\n",
        "# Dividing d_train into data and labels/targets\n",
        "d_train_y = d_train['Type']\n",
        "d_train_X = d_train.drop(['Type'], axis=1)\n",
        "\n",
        "    # Dividing d_train into data and labels/targets\n",
        "d_test_y = d_test['Type']\n",
        "d_test_X = d_test.drop(['Type'], axis=1)\n",
        "\n",
        "    # Learning rate\n",
        "alpha = 0.001\n",
        "\n",
        "    # Train\n",
        "weights = perceptron_train(d_train_X, d_train_y, alpha)\n",
        "\n",
        "    # Test\n",
        "result_test = perceptron_test(d_test_X, d_test_y.shape, weights)\n",
        "\n",
        "    # Calculate score\n",
        "score(result_test, d_test_y)"
      ]
    },
    {
      "cell_type": "markdown",
      "source": [
        "Multi layer perceptron"
      ],
      "metadata": {
        "id": "gxyOPNkWtCU7"
      }
    },
    {
      "cell_type": "code",
      "source": [
        "import tensorflow as tf\n",
        "from tensorflow import keras\n",
        "from tensorflow.keras import layers\n",
        "import matplotlib.pyplot as plt\n",
        "\n",
        "# Step 2: Load the MNIST Dataset\n",
        "mnist = keras.datasets.mnist\n",
        "(x_train, y_train), (x_test, y_test) = mnist.load_data()\n",
        "\n",
        "# Step 3: Preprocess Data\n",
        "x_train = x_train.reshape((x_train.shape[0], 28 * 28)).astype('float32') / 255\n",
        "x_test = x_test.reshape((x_test.shape[0], 28 * 28)).astype('float32') / 255\n",
        "\n",
        "# Step 4: Build the MLP Model\n",
        "model = keras.Sequential([\n",
        "    layers.Dense(128, activation='relu', input_shape=(28 * 28,)),\n",
        "    layers.Dense(64, activation='relu'),\n",
        "    layers.Dense(10, activation='softmax')  # 10 classes for digits 0-9\n",
        "])\n",
        "\n",
        "# Step 5: Compile the Model\n",
        "model.compile(optimizer='adam',\n",
        "              loss='sparse_categorical_crossentropy',\n",
        "              metrics=['accuracy'])\n",
        "\n",
        "# Step 6: Train the Model\n",
        "history = model.fit(x_train, y_train, epochs=5, batch_size=32, validation_split=0.2)\n",
        "\n",
        "# Step 7: Evaluate the Model\n",
        "test_loss, test_acc = model.evaluate(x_test, y_test)\n",
        "print(f'\\nTest accuracy: {test_acc:.4f}')\n",
        "\n",
        "# Step 8: Plot Training History\n",
        "plt.plot(history.history['accuracy'], label='accuracy')\n",
        "plt.plot(history.history['val_accuracy'], label='val_accuracy')\n",
        "plt.xlabel('Epoch')\n",
        "plt.ylabel('Accuracy')\n",
        "plt.ylim(0, 1)\n",
        "plt.legend(loc='lower right')\n",
        "plt.title('Model Accuracy')\n",
        "plt.show()"
      ],
      "metadata": {
        "colab": {
          "base_uri": "https://localhost:8080/",
          "height": 787
        },
        "id": "QofBvmFHpnbm",
        "outputId": "6f03050b-74e6-44bf-99d3-82b95bb9ba03"
      },
      "execution_count": null,
      "outputs": [
        {
          "output_type": "stream",
          "name": "stdout",
          "text": [
            "Downloading data from https://storage.googleapis.com/tensorflow/tf-keras-datasets/mnist.npz\n",
            "\u001b[1m11490434/11490434\u001b[0m \u001b[32m━━━━━━━━━━━━━━━━━━━━\u001b[0m\u001b[37m\u001b[0m \u001b[1m0s\u001b[0m 0us/step\n"
          ]
        },
        {
          "output_type": "stream",
          "name": "stderr",
          "text": [
            "/usr/local/lib/python3.10/dist-packages/keras/src/layers/core/dense.py:87: UserWarning: Do not pass an `input_shape`/`input_dim` argument to a layer. When using Sequential models, prefer using an `Input(shape)` object as the first layer in the model instead.\n",
            "  super().__init__(activity_regularizer=activity_regularizer, **kwargs)\n"
          ]
        },
        {
          "output_type": "stream",
          "name": "stdout",
          "text": [
            "Epoch 1/5\n",
            "\u001b[1m1500/1500\u001b[0m \u001b[32m━━━━━━━━━━━━━━━━━━━━\u001b[0m\u001b[37m\u001b[0m \u001b[1m11s\u001b[0m 5ms/step - accuracy: 0.8631 - loss: 0.4786 - val_accuracy: 0.9573 - val_loss: 0.1433\n",
            "Epoch 2/5\n",
            "\u001b[1m1500/1500\u001b[0m \u001b[32m━━━━━━━━━━━━━━━━━━━━\u001b[0m\u001b[37m\u001b[0m \u001b[1m11s\u001b[0m 6ms/step - accuracy: 0.9619 - loss: 0.1251 - val_accuracy: 0.9672 - val_loss: 0.1098\n",
            "Epoch 3/5\n",
            "\u001b[1m1500/1500\u001b[0m \u001b[32m━━━━━━━━━━━━━━━━━━━━\u001b[0m\u001b[37m\u001b[0m \u001b[1m10s\u001b[0m 7ms/step - accuracy: 0.9752 - loss: 0.0804 - val_accuracy: 0.9686 - val_loss: 0.1029\n",
            "Epoch 4/5\n",
            "\u001b[1m1500/1500\u001b[0m \u001b[32m━━━━━━━━━━━━━━━━━━━━\u001b[0m\u001b[37m\u001b[0m \u001b[1m6s\u001b[0m 4ms/step - accuracy: 0.9812 - loss: 0.0606 - val_accuracy: 0.9712 - val_loss: 0.0934\n",
            "Epoch 5/5\n",
            "\u001b[1m1500/1500\u001b[0m \u001b[32m━━━━━━━━━━━━━━━━━━━━\u001b[0m\u001b[37m\u001b[0m \u001b[1m11s\u001b[0m 5ms/step - accuracy: 0.9855 - loss: 0.0445 - val_accuracy: 0.9684 - val_loss: 0.1151\n",
            "\u001b[1m313/313\u001b[0m \u001b[32m━━━━━━━━━━━━━━━━━━━━\u001b[0m\u001b[37m\u001b[0m \u001b[1m2s\u001b[0m 4ms/step - accuracy: 0.9675 - loss: 0.1078\n",
            "\n",
            "Test accuracy: 0.9720\n"
          ]
        },
        {
          "output_type": "display_data",
          "data": {
            "text/plain": [
              "<Figure size 640x480 with 1 Axes>"
            ],
            "image/png": "[encoded data removed]"
          },
          "metadata": {}
        }
      ]
    },
    {
      "cell_type": "markdown",
      "source": [
        "##**Question 2**##"
      ],
      "metadata": {
        "id": "_u3wYstftJK7"
      }
    },
    {
      "cell_type": "markdown",
      "source": [
        "SVM classifier"
      ],
      "metadata": {
        "id": "fTVZXIx9tNe5"
      }
    },
    {
      "cell_type": "code",
      "source": [
        "\n",
        "import numpy as np\n",
        "import pandas as pd\n",
        "import tensorflow as tf\n",
        "from tensorflow import keras\n",
        "from sklearn import datasets\n",
        "from sklearn.model_selection import train_test_split\n",
        "from sklearn.preprocessing import StandardScaler\n",
        "from sklearn.svm import SVC\n",
        "from sklearn.metrics import confusion_matrix, classification_report, roc_curve, roc_auc_score\n",
        "import seaborn as sns\n",
        "import matplotlib.pyplot as plt\n",
        "from sklearn.metrics import precision_recall_fscore_support\n",
        "\n",
        "# Set random seed for reproducibility\n",
        "np.random.seed(42)"
      ],
      "metadata": {
        "id": "CTB38zw8qOds"
      },
      "execution_count": null,
      "outputs": []
    },
    {
      "cell_type": "code",
      "source": [
        "# Step 2: Load and Preprocess the MNIST Dataset\n",
        "mnist = keras.datasets.mnist\n",
        "(x_train, y_train), (x_test, y_test) = mnist.load_data()\n",
        "\n",
        "# Flatten the images and normalize the data\n",
        "x_train = x_train.reshape((x_train.shape[0], -1)).astype('float32') / 255\n",
        "x_test = x_test.reshape((x_test.shape[0], -1)).astype('float32') / 255\n",
        "\n",
        "# Combine train and test data for further analysis\n",
        "X = np.vstack((x_train, x_test))\n",
        "y = np.hstack((y_train, y_test))\n",
        "\n",
        "# For EDA, reduce the data size (optional)\n",
        "X_sample, _, y_sample, _ = train_test_split(X, y, test_size=0.9, random_state=42)"
      ],
      "metadata": {
        "id": "ONKumebErJcq"
      },
      "execution_count": null,
      "outputs": []
    },
    {
      "cell_type": "code",
      "source": [
        "# Step 3: Exploratory Data Analysis (EDA)\n",
        "# Visualize the distribution of digits\n",
        "sns.countplot(x=y, palette='Set1')\n",
        "plt.title('Distribution of Digits in MNIST')\n",
        "plt.xlabel('Digits')\n",
        "plt.ylabel('Count')\n",
        "plt.show()\n",
        "\n",
        "# Visualize sample images\n",
        "plt.figure(figsize=(12, 6))\n",
        "for i in range(10):\n",
        "    plt.subplot(2, 5, i + 1)\n",
        "    plt.imshow(X_sample[i].reshape(28, 28), cmap='gray')\n",
        "    plt.title(f'Digit: {y_sample[i]}')\n",
        "    plt.axis('off')\n",
        "plt.show()"
      ],
      "metadata": {
        "colab": {
          "base_uri": "https://localhost:8080/",
          "height": 1000
        },
        "id": "QFdSv4k1rNJZ",
        "outputId": "c3917326-da2a-4b31-fd89-5b4d38253e83"
      },
      "execution_count": null,
      "outputs": [
        {
          "output_type": "stream",
          "name": "stderr",
          "text": [
            "<ipython-input-5-bcc3477c4c7b>:3: FutureWarning: \n",
            "\n",
            "Passing `palette` without assigning `hue` is deprecated and will be removed in v0.14.0. Assign the `x` variable to `hue` and set `legend=False` for the same effect.\n",
            "\n",
            "  sns.countplot(x=y, palette='Set1')\n",
            "/usr/local/lib/python3.10/dist-packages/seaborn/_base.py:949: FutureWarning: When grouping with a length-1 list-like, you will need to pass a length-1 tuple to get_group in a future version of pandas. Pass `(name,)` instead of `name` to silence this warning.\n",
            "  data_subset = grouped_data.get_group(pd_key)\n",
            "/usr/local/lib/python3.10/dist-packages/seaborn/_base.py:949: FutureWarning: When grouping with a length-1 list-like, you will need to pass a length-1 tuple to get_group in a future version of pandas. Pass `(name,)` instead of `name` to silence this warning.\n",
            "  data_subset = grouped_data.get_group(pd_key)\n",
            "/usr/local/lib/python3.10/dist-packages/seaborn/_base.py:949: FutureWarning: When grouping with a length-1 list-like, you will need to pass a length-1 tuple to get_group in a future version of pandas. Pass `(name,)` instead of `name` to silence this warning.\n",
            "  data_subset = grouped_data.get_group(pd_key)\n",
            "/usr/local/lib/python3.10/dist-packages/seaborn/_base.py:949: FutureWarning: When grouping with a length-1 list-like, you will need to pass a length-1 tuple to get_group in a future version of pandas. Pass `(name,)` instead of `name` to silence this warning.\n",
            "  data_subset = grouped_data.get_group(pd_key)\n",
            "/usr/local/lib/python3.10/dist-packages/seaborn/_base.py:949: FutureWarning: When grouping with a length-1 list-like, you will need to pass a length-1 tuple to get_group in a future version of pandas. Pass `(name,)` instead of `name` to silence this warning.\n",
            "  data_subset = grouped_data.get_group(pd_key)\n",
            "/usr/local/lib/python3.10/dist-packages/seaborn/_base.py:949: FutureWarning: When grouping with a length-1 list-like, you will need to pass a length-1 tuple to get_group in a future version of pandas. Pass `(name,)` instead of `name` to silence this warning.\n",
            "  data_subset = grouped_data.get_group(pd_key)\n",
            "/usr/local/lib/python3.10/dist-packages/seaborn/_base.py:949: FutureWarning: When grouping with a length-1 list-like, you will need to pass a length-1 tuple to get_group in a future version of pandas. Pass `(name,)` instead of `name` to silence this warning.\n",
            "  data_subset = grouped_data.get_group(pd_key)\n",
            "/usr/local/lib/python3.10/dist-packages/seaborn/_base.py:949: FutureWarning: When grouping with a length-1 list-like, you will need to pass a length-1 tuple to get_group in a future version of pandas. Pass `(name,)` instead of `name` to silence this warning.\n",
            "  data_subset = grouped_data.get_group(pd_key)\n",
            "/usr/local/lib/python3.10/dist-packages/seaborn/_base.py:949: FutureWarning: When grouping with a length-1 list-like, you will need to pass a length-1 tuple to get_group in a future version of pandas. Pass `(name,)` instead of `name` to silence this warning.\n",
            "  data_subset = grouped_data.get_group(pd_key)\n",
            "/usr/local/lib/python3.10/dist-packages/seaborn/_base.py:949: FutureWarning: When grouping with a length-1 list-like, you will need to pass a length-1 tuple to get_group in a future version of pandas. Pass `(name,)` instead of `name` to silence this warning.\n",
            "  data_subset = grouped_data.get_group(pd_key)\n"
          ]
        },
        {
          "output_type": "display_data",
          "data": {
            "text/plain": [
              "<Figure size 640x480 with 1 Axes>"
            ],
            "image/png": "[encoded data removed]"
          },
          "metadata": {}
        },
        {
          "output_type": "display_data",
          "data": {
            "text/plain": [
              "<Figure size 1200x600 with 10 Axes>"
            ],
            "image/png": "[encoded data removed]"
          },
          "metadata": {}
        }
      ]
    },
    {
      "cell_type": "code",
      "source": [
        "# Step 4: Prepare data for SVM\n",
        "# Split the dataset\n",
        "x_train, x_val, y_train, y_val = train_test_split(X, y, test_size=0.3, random_state=42)\n",
        "\n",
        "# Scale the features\n",
        "scaler = StandardScaler()\n",
        "x_train_scaled = scaler.fit_transform(x_train)\n",
        "x_val_scaled = scaler.transform(x_val)"
      ],
      "metadata": {
        "id": "BdZELgyMraLg"
      },
      "execution_count": null,
      "outputs": []
    },
    {
      "cell_type": "code",
      "source": [
        "def run_svm_and_evaluate(kernel, C):\n",
        "    model = SVC(kernel=kernel, C=C, probability=True)\n",
        "    model.fit(x_train_scaled, y_train)\n",
        "\n",
        "    # Predict\n",
        "    y_pred = model.predict(x_val_scaled)\n",
        "    y_pred_proba = model.predict_proba(x_val_scaled)[:, 1]  # For ROC-AUC\n",
        "\n",
        "    # Confusion Matrix and Classification Report\n",
        "    cm = confusion_matrix(y_val, y_pred)\n",
        "    class_report = classification_report(y_val, y_pred)\n",
        "\n",
        "    # Calculate ROC AUC\n",
        "    fpr, tpr, thresholds = roc_curve(y_val, y_pred_proba)\n",
        "    roc_auc = roc_auc_score(y_val, y_pred_proba)\n",
        "\n",
        "    # Print outputs\n",
        "    print(f'Kernel: {kernel}, C: {C}')\n",
        "    print('Confusion Matrix:')\n",
        "    print(cm)\n",
        "    print('\\nClassification Report:')\n",
        "    print(class_report)\n",
        "    print(f'ROC AUC: {roc_auc:.4f}')\n",
        "\n",
        "    # ROC Curve\n",
        "    plt.plot(fpr, tpr, label=f'ROC Curve (AUC = {roc_auc:.4f})')\n",
        "    plt.plot([0, 1], [0, 1], 'k--')\n",
        "    plt.xlabel('False Positive Rate')\n",
        "    plt.ylabel('True Positive Rate')\n",
        "    plt.title(f'ROC Curve for Kernel: {kernel}, C: {C}')\n",
        "    plt.legend(loc='lower right')\n",
        "    plt.show()"
      ],
      "metadata": {
        "id": "7lcKXWZirfDQ"
      },
      "execution_count": null,
      "outputs": []
    },
    {
      "cell_type": "code",
      "source": [
        "# Step 6: Run SVM with Default Hyperparameters\n",
        "run_svm_and_evaluate(kernel='linear', C=1)\n",
        "\n",
        "# SVM with Linear Kernel\n",
        "for C in [1, 50, 500]:\n",
        "    run_svm_and_evaluate(kernel='linear', C=C)\n",
        "\n",
        "# SVM with Polynomial Kernel\n",
        "for C in [1, 50, 500]:\n",
        "    run_svm_and_evaluate(kernel='poly', C=C)\n",
        "\n",
        "# SVM with RBF Kernel\n",
        "for C in [1, 50, 500]:\n",
        "    run_svm_and_evaluate(kernel='rbf', C=C)\n",
        "\n",
        "# SVM with Sigmoid Kernel\n",
        "for C in [1, 50, 500]:\n",
        "    run_svm_and_evaluate(kernel='sigmoid', C=C)"
      ],
      "metadata": {
        "id": "yr73uFwqrkUQ"
      },
      "execution_count": null,
      "outputs": []
    }
  ]
}